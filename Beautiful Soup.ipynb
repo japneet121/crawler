{
 "cells": [
  {
   "cell_type": "code",
   "execution_count": null,
   "metadata": {
    "collapsed": true,
    "scrolled": true
   },
   "outputs": [],
   "source": [
    "html_doc = \"\"\"\n",
    "<html>\n",
    "<body>\n",
    "<h1 id=\"abc\">Sample Links</h1>\n",
    "<br>\n",
    "<a href=\"https://www.google.com\">Google</a>\n",
    "<br>\n",
    "<a href=\"https://www.apple.com\">Apple</a>\n",
    "<br>\n",
    "<a href=\"https://www.yahoo.com\">Yahoo</a>\n",
    "<br>\n",
    "<a href=\"https://www.msdn.com\">MSDN</a>\n",
    "</body>\n",
    "</html>\n",
    "\"\"\""
   ]
  },
  {
   "cell_type": "code",
   "execution_count": null,
   "metadata": {
    "scrolled": true
   },
   "outputs": [],
   "source": [
    "#to import the package \n",
    "from bs4 import BeautifulSoup\n",
    "\n",
    "\n",
    "#creating an object of BeautifulSoup and pass 2 parameters\n",
    "#1)the html t be scanned\n",
    "#2)the parser to be used(html parser ,lxml parser etc)\n",
    "soup=BeautifulSoup(html_doc,\"html.parser\")\n",
    "\n",
    "\n",
    "#to find all the anchor tags in the html string\n",
    "#findAll returns a list of tags in thi scase anchors(to get first one we can use find )\n",
    "anchors=soup.findAll('a')\n",
    "\n",
    "#getting links from anchor tags\n",
    "for a in anchors:\n",
    "    print a.get('href') #get is used to get the attributes of a tags element\n",
    "    #print a['href'] can also be used to access the attribute of a tag\n",
    "   "
   ]
  },
  {
   "cell_type": "code",
   "execution_count": null,
   "metadata": {
    "scrolled": true
   },
   "outputs": [],
   "source": [
    "import re\n",
    "soup.find(id='abc')\n",
    "soup.find_all(re.compile(\"^a\"),limit=2)\n",
    "#soup.find_all(['a','h1'])\n",
    "#soup.find_all(attrs={'id':'abc'})"
   ]
  },
  {
   "cell_type": "code",
   "execution_count": null,
   "metadata": {
    "scrolled": true
   },
   "outputs": [],
   "source": [
    "import urllib3\n",
    "http = urllib3.PoolManager()\n",
    "r = http.request('GET', 'https://en.wikipedia.org/wiki/India')\n",
    "dir(r)"
   ]
  },
  {
   "cell_type": "code",
   "execution_count": null,
   "metadata": {
    "scrolled": true
   },
   "outputs": [],
   "source": [
    "soup=BeautifulSoup(r.data,\"html.parser\")"
   ]
  },
  {
   "cell_type": "code",
   "execution_count": null,
   "metadata": {},
   "outputs": [],
   "source": [
    "#getting whole text from the wiki page\n",
    "text=soup.text\n",
    "#getting all the links from wiki page\n",
    "links=soup.find_all('a')\n",
    "\n",
    "#iterating over the new pages and getting text from them\n",
    "#this can be done in a recursive fashion to parse large number of pages\n",
    "for link in links:\n",
    "    prihref=nt link.get('href')\n",
    "    new_url='https://en.wikipedia.org'+href\n",
    "    http = urllib3.PoolManager()\n",
    "    r_new = http.request('GET', new_url)\n",
    "    #do something with new page\n",
    "    new_text=r_new.text\n"
   ]
  },
  {
   "cell_type": "code",
   "execution_count": null,
   "metadata": {},
   "outputs": [],
   "source": [
    "src=soup.find('img').get('src')\n",
    "capital=soup.find(text=\"\")\n",
    "capital"
   ]
  }
 ],
 "metadata": {
  "kernelspec": {
   "display_name": "Python 2",
   "language": "python",
   "name": "python2"
  },
  "language_info": {
   "codemirror_mode": {
    "name": "ipython",
    "version": 2
   },
   "file_extension": ".py",
   "mimetype": "text/x-python",
   "name": "python",
   "nbconvert_exporter": "python",
   "pygments_lexer": "ipython2",
   "version": "2.7.12"
  }
 },
 "nbformat": 4,
 "nbformat_minor": 2
}
